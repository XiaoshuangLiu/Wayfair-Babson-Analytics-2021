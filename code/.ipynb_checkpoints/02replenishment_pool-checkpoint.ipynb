{
 "cells": [
  {
   "cell_type": "code",
   "execution_count": 1,
   "metadata": {},
   "outputs": [],
   "source": [
    "from collections import Counter\n",
    "from itertools import product\n",
    "import os\n",
    "import numpy as np\n",
    "import pandas as pd\n",
    "from tqdm import tqdm\n",
    "import matplotlib\n",
    "matplotlib.rc('pdf', fonttype=42)\n",
    "matplotlib.rc('font', **{'size': 14})\n",
    "import matplotlib.pyplot as plt\n",
    "import seaborn\n",
    "seaborn.set_style('ticks')"
   ]
  },
  {
   "cell_type": "markdown",
   "metadata": {},
   "source": [
    "# load dataset"
   ]
  },
  {
   "cell_type": "code",
   "execution_count": 2,
   "metadata": {},
   "outputs": [],
   "source": [
    "figure_path = '..\\plots'\n",
    "data_path = '..\\data'"
   ]
  },
  {
   "cell_type": "code",
   "execution_count": null,
   "metadata": {},
   "outputs": [],
   "source": [
    "df_past = pd.read_csv(os.path.join(data_path, 'Customer In Stock Dataset Final.csv'), encoding='ISO-8859-1')\n",
    "df_forward = pd.read_csv(os.path.join(data_path, 'Forward Coverage Dataset Final.csv'), encoding='ISO-8859-1')\n",
    "\n",
    "df_past = df_past.rename(columns={\n",
    "    'CustomerInstock_Denom':'Demand',\n",
    "    'CustomerInstock_Num':'CoveredSales',\n",
    "    'WholesaleCostNoRebates':'WholesaleCost'})\n",
    "\n",
    "df_past['MissedDemand'] = df_past.WH_LostSales_OOS + df_past.DS_LostSales_OOS\n",
    "df_past['InStockPerc'] = df_past.CoveredSales / df_past.Demand*100\n",
    "df_past['L2marker'] = [np.nan]*len(df_past)\n",
    "df_past['FCR_Type'] = [np.nan]*len(df_past)\n",
    "df_past['qty_fulfilled_oh'] = [np.nan]*len(df_past)\n",
    "df_past['qty_fulfilled_oo'] = [np.nan]*len(df_past)\n",
    "df_past['qty_fulfilled_if'] = [np.nan]*len(df_past)\n",
    "df_past['qty_fulfilled_l2'] = [np.nan]*len(df_past)\n",
    "df_past['FromForward'] = [0]*len(df_past)\n",
    "\n",
    "df_forward = df_forward.rename(columns={'Forecast':'Demand'})\n",
    "df_forward['CoveredSales'] = df_forward[['qty_fulfilled_oh', 'qty_fulfilled_oo', 'qty_fulfilled_if', 'qty_fulfilled_l2']].sum(axis=1)\n",
    "df_forward['MissedDemand'] = df_forward.Demand - df_forward.CoveredSales\n",
    "df_forward['InStockPerc'] = df_forward.CoveredSales / df_forward.Demand*100\n",
    "df_forward['L2marker'] = df_forward.FCR_Type.astype(str).str.lower().str.contains('l2').astype(int)\n",
    "df_forward['FromForward'] = [1]*len(df_forward)\n",
    "\n",
    "cols = ['FromForward', 'Date', 'SKU', 'suid', 'ItemMarketingCategory', 'ItemClass', 'Country', 'ItemShipClass', 'WholesaleCost', 'Demand', 'CoveredSales', 'MissedDemand', 'InStockPerc', 'L2marker', 'FCR_Type', 'qty_fulfilled_oh', 'qty_fulfilled_oo', 'qty_fulfilled_if', 'qty_fulfilled_l2']\n",
    "df = pd.concat([df_past[cols], df_forward[cols]], axis=0, ignore_index=True)\n",
    "\n",
    "exclude_cols_past = [x for x in df_past.columns if x not in cols]\n",
    "exclude_cols_forward = [x for x in df_forward.columns if x not in cols]\n",
    "print(f'excluded past cols: {exclude_cols_past}')\n",
    "print(f'excluded forward cols: {exclude_cols_forward}')\n",
    "\n",
    "\"\"\"\n",
    "excluded past cols: ['DateType', 'WH_CustomerInstock_Num', 'WH_CustomerInstock_Denom', 'Distributor_CustomerInstock_Num', 'Distributor_CustomerInstock_Denom', 'WH_LostSales_OOS', 'DS_LostSales_OOS']\n",
    "excluded forward cols: ['DateType', 'FCR_Type', 'qty_fulfilled_oh', 'qty_fulfilled_oo', 'qty_fulfilled_if', 'qty_fulfilled_l2']\n",
    "\"\"\"\n",
    "\n",
    "ids = df.WholesaleCost>0  # positive and not empty\n",
    "ids &= df.Demand>0   # positive and not empty\n",
    "df2 = df[ids].reset_index(drop=True)\n",
    "#df2.to_csv(os.path.join(data_path, 'combined_dataset_0325.csv'), index=False)"
   ]
  },
  {
   "cell_type": "code",
   "execution_count": null,
   "metadata": {},
   "outputs": [],
   "source": [
    "df2 = df2[(df2.FromForward==1)&(df2.Country=='United States')].reset_index(drop=True)\n",
    "df2 = df2.drop(columns=['FromForward', 'Country', 'MissedDemand', 'InStockPerc'])\n",
    "df2['NoL2marker'] = 1-df2.L2marker"
   ]
  },
  {
   "cell_type": "code",
   "execution_count": null,
   "metadata": {},
   "outputs": [],
   "source": [
    "df3 = df2.groupby(['Date', 'SKU', 'suid', 'ItemMarketingCategory', 'ItemClass', 'ItemShipClass']).agg({\n",
    "    'L2marker':'sum',\n",
    "    'NoL2marker':'sum',\n",
    "    'WholesaleCost':'mean',\n",
    "    'Demand':'max',\n",
    "    'CoveredSales':'sum',\n",
    "    'qty_fulfilled_oh':'sum',\n",
    "    'qty_fulfilled_oo':'sum',\n",
    "    'qty_fulfilled_if':'sum',\n",
    "    'qty_fulfilled_l2':'sum'})\n",
    "df3['MissedDemand'] = df3.Demand - df3.CoveredSales\n",
    "df3['InStockPerc'] = df3.CoveredSales / df3.Demand*100\n",
    "df3['DemandCount'] = df3.Demand / df3.WholesaleCost\n",
    "df3['MissedCount'] = df3.MissedDemand/df3.WholesaleCost\n",
    "\n",
    "df3 = df3[['L2marker', 'NoL2marker',\n",
    "   'WholesaleCost', 'Demand', 'CoveredSales', 'MissedDemand', 'DemandCount', 'MissedCount', 'InStockPerc',\n",
    "   'qty_fulfilled_oh', 'qty_fulfilled_oo', 'qty_fulfilled_if',\n",
    "   'qty_fulfilled_l2']]\n",
    "#df3.to_csv(os.path.join(data_path, 'combined_dataset_aggregated_0325.csv'))\n",
    "df3 = df3.reset_index()"
   ]
  },
  {
   "cell_type": "code",
   "execution_count": null,
   "metadata": {},
   "outputs": [],
   "source": [
    "df3 = df3[df3.MissedDemand>0].reset_index(drop=True) # use positive missed demand\n",
    "unique_dates = df3.Date.unique()\n",
    "unique_categories = df3.ItemMarketingCategory.unique()\n",
    "print(len(unique_dates), unique_dates)\n",
    "print(len(unique_categories), unique_categories)"
   ]
  },
  {
   "cell_type": "code",
   "execution_count": null,
   "metadata": {},
   "outputs": [],
   "source": [
    "mu = np.mean(df3.WholesaleCost)\n",
    "print(f'mu = {mu}')\n",
    "print(f'% lower than mu = {np.mean(df3.WholesaleCost < mu)}')\n",
    "print(f'% higher than mu = {np.mean(df3.WholesaleCost > mu)}')\n",
    "\n",
    "median = np.median(df3.WholesaleCost)\n",
    "print(f'median = {median}')\n",
    "print(f'% lower than median = {np.mean(df3.WholesaleCost < median)}')\n",
    "print(f'% higher than median = {np.mean(df3.WholesaleCost > median)}')\n",
    "print('Small: <median. Medium: median to mean. ')"
   ]
  },
  {
   "cell_type": "code",
   "execution_count": null,
   "metadata": {},
   "outputs": [],
   "source": [
    "mu = np.mean(df3.MissedCount)\n",
    "print(f'mu = {mu}')\n",
    "print(f'% lower than mu = {np.mean(df3.MissedCount < mu)}')\n",
    "print(f'% higher than mu = {np.mean(df3.MissedCount > mu)}')\n",
    "\n",
    "median = np.median(df3.MissedCount)\n",
    "print(f'median = {median}')\n",
    "print(f'% lower than median = {np.mean(df3.MissedCount < median)}')\n",
    "print(f'% higher than median = {np.mean(df3.MissedCount > median)}')\n",
    "print('Small: <median. Medium: median to mean. Large: >mean')"
   ]
  },
  {
   "cell_type": "markdown",
   "metadata": {},
   "source": [
    "## Replenishment Pool"
   ]
  },
  {
   "cell_type": "markdown",
   "metadata": {},
   "source": [
    "### 1. Classify Categories by cost"
   ]
  },
  {
   "cell_type": "code",
   "execution_count": null,
   "metadata": {},
   "outputs": [],
   "source": [
    "unique_categories = df3.ItemMarketingCategory.unique()\n",
    "\n",
    "mus = []\n",
    "medians = []\n",
    "for category in unique_categories:\n",
    "    mus.append(np.mean(df3.WholesaleCost[df3.ItemMarketingCategory==category]))\n",
    "    medians.append(np.median(df3.WholesaleCost[df3.ItemMarketingCategory==category]))\n",
    "\n",
    "df_cat = pd.DataFrame(data={'Category':unique_categories, 'mu':mus, 'median':medians})\n",
    "df_cat = df_cat.sort_values('median', ascending=False).reset_index(drop=True)"
   ]
  },
  {
   "cell_type": "code",
   "execution_count": null,
   "metadata": {},
   "outputs": [],
   "source": [
    "from kneed import KneeLocator\n",
    "x = np.arange(len(df_cat))\n",
    "y = df_cat['median'].values\n",
    "kl = KneeLocator(x, y, curve=\"convex\", direction=\"decreasing\")\n",
    "knee1 = kl.knee\n",
    "print(y[knee1])\n",
    "print(df_cat.Category.iloc[:knee1].values)\n",
    "\n",
    "kl = KneeLocator(x[knee1:], y[knee1:], curve=\"convex\", direction=\"decreasing\")\n",
    "knee2 = knee1+kl.knee\n",
    "print(y[knee2])\n",
    "print(df_cat.Category.iloc[knee1:knee2].values)\n",
    "print(df_cat.Category.iloc[knee2:].values)\n",
    "\n",
    "plt.close()\n",
    "fig = plt.figure(figsize=(10,8))\n",
    "ax = fig.add_subplot(111)\n",
    "ax.plot(x, y, lw=2, marker='o', c='k')\n",
    "ax.axvline(knee1, ls='--', c='r')\n",
    "ax.axvline(knee2, ls='--', c='r')\n",
    "ax.set_xticks(x)\n",
    "ax.set_xticklabels(df_cat.Category, rotation=60, ha=\"right\")\n",
    "ax.set_ylabel('Category wholesale cost median')\n",
    "seaborn.despine()\n",
    "plt.tight_layout()"
   ]
  },
  {
   "cell_type": "code",
   "execution_count": null,
   "metadata": {},
   "outputs": [],
   "source": [
    "high_categories = unique_categories[:knee1]\n",
    "medium_categories = unique_categories[knee1:knee2]\n",
    "low_categories = unique_categories[knee2:]\n",
    "\n",
    "cc = np.zeros(len(df3), dtype=object)\n",
    "cc[np.in1d(df3.ItemMarketingCategory, high_categories)] = 'high'\n",
    "cc[np.in1d(df3.ItemMarketingCategory, medium_categories)] = 'medium'\n",
    "cc[np.in1d(df3.ItemMarketingCategory, low_categories)] = 'low'\n",
    "df3['CostCategory'] = cc"
   ]
  },
  {
   "cell_type": "markdown",
   "metadata": {},
   "source": [
    "### 2.Drop off unpropsal demand <= 1"
   ]
  },
  {
   "cell_type": "code",
   "execution_count": null,
   "metadata": {},
   "outputs": [],
   "source": [
    "print(np.mean(df3.MissedCount<=1))  # proportion of MissedCount<=1 in df3\n",
    "df4 = df3[df3.MissedCount<=1].reset_index(drop=True)\n",
    "print(df4.MissedDemand.sum() / df3.MissedDemand.sum())  # proportion of missed demand in MissedCount<=1\n",
    "df4.to_csv(os.path.join(data_path, 'substitution.csv'))  # used as substitution pool"
   ]
  },
  {
   "cell_type": "markdown",
   "metadata": {},
   "source": [
    "### 2.Shrinking deep demand into security level of proposal"
   ]
  },
  {
   "cell_type": "code",
   "execution_count": null,
   "metadata": {},
   "outputs": [],
   "source": [
    "from sklearn.isotonic import IsotonicRegression\n",
    "from matplotlib.patches import Rectangle\n",
    "color_purple = (184/255,76/255,152/255)\n",
    "color_yellow = (228/255,205/255,63/255)\n",
    "color_green = (195/255,204/255,111/255)"
   ]
  },
  {
   "cell_type": "code",
   "execution_count": null,
   "metadata": {},
   "outputs": [],
   "source": [
    "df5 = df3[df3.MissedCount>1].reset_index(drop=True)\n",
    "        \n",
    "plt.close()\n",
    "fig = plt.figure(figsize=(15,6))\n",
    "\n",
    "# low\n",
    "\n",
    "df5_low = df5[df5.CostCategory=='low'].reset_index(drop=True)\n",
    "counts, bins = np.histogram(df5_low.MissedCount, bins=20)\n",
    "bins = bins[:len(counts)]\n",
    "model = IsotonicRegression(increasing=False).fit(bins, counts)\n",
    "yp = model.predict(bins)\n",
    "kl = KneeLocator(bins, yp, curve=\"convex\", direction=\"decreasing\")\n",
    "knee1 = kl.knee\n",
    "ids = bins>knee1\n",
    "kl = KneeLocator(bins[ids], yp[ids], curve=\"convex\", direction=\"decreasing\")\n",
    "knee2 = knee1+kl.knee\n",
    "print('\\nlow')\n",
    "print(f'cut point #1 = {knee1:.1f}, cut point #2 = {knee2:.1f}')\n",
    "misseddemand = df5_low.MissedDemand[df5_low.MissedCount>knee2].sum()\n",
    "print(f'missed demand = {misseddemand:.1f}')\n",
    "\n",
    "ax = fig.add_subplot(131)\n",
    "ax.hist(df5.MissedCount[df5.CostCategory=='low'], bins=20, color=color_green)\n",
    "counts, bins = np.histogram(df5.MissedCount[df5.CostCategory=='low'], bins=20)\n",
    "for bi in range(len(bins)-1):\n",
    "    if bins[bi+1]<=knee1:\n",
    "        color = color_yellow\n",
    "    elif bins[bi]>=knee2-10:\n",
    "        color = color_purple\n",
    "    else:\n",
    "        continue\n",
    "    width = bins[bi+1]-bins[bi]\n",
    "    ax.add_patch(Rectangle(\n",
    "        xy=(bins[bi]+0.08*width, 0), width=0.92*width, height=counts[bi],\n",
    "        facecolor=color, edgecolor='none'))\n",
    "ax.axvline(knee1, c='r', ls='--')\n",
    "ax.axvline(knee2, c='r', ls='--')\n",
    "ax.set_xlabel('Missed Count: Low Cost')\n",
    "plt.yscale('log', nonpositive='clip')\n",
    "seaborn.despine()\n",
    "#ax.set_ylim(0,1e5)\n",
    "ax.set_xlim(0,3500)\n",
    "\n",
    "df6 = df5_low.copy()\n",
    "ids = df5_low.MissedCount>knee2\n",
    "df6.loc[ids, 'MissedCount'] = knee2\n",
    "df6.loc[ids, 'MissedDemand'] = knee2*df5_low.WholesaleCost[ids]\n",
    "misseddemand2 = df6.MissedDemand[ids].sum()\n",
    "diff_perc_misseddemand = (misseddemand-misseddemand2)/misseddemand*100\n",
    "print(f'updated missed demand = {misseddemand2:.1f} (decreased by {diff_perc_misseddemand:.0f}%)')\n",
    "df5.loc[df5.CostCategory=='low'] = df6.values\n",
    "\n",
    "\n",
    "# medium\n",
    "\n",
    "counts, bins = np.histogram(df5.MissedCount[df5.CostCategory=='medium'], bins=20)\n",
    "bins = bins[:len(counts)]\n",
    "model = IsotonicRegression(increasing=False).fit(bins, counts)\n",
    "yp = model.predict(bins)\n",
    "kl = KneeLocator(bins, yp, curve=\"convex\", direction=\"decreasing\")\n",
    "knee1 = kl.knee\n",
    "ids = bins>knee1\n",
    "kl = KneeLocator(bins[ids], yp[ids], curve=\"convex\", direction=\"decreasing\")\n",
    "knee2 = knee1+kl.knee\n",
    "\n",
    "ax = fig.add_subplot(132)\n",
    "ax.hist(df5.MissedCount[df5.CostCategory=='medium'], bins=20, color=color_green)\n",
    "counts, bins = np.histogram(df5.MissedCount[df5.CostCategory=='medium'], bins=20)\n",
    "for bi in range(len(bins)-1):\n",
    "    if bins[bi+1]<=knee1:\n",
    "        color = color_yellow\n",
    "    elif bins[bi]>=knee2-10:\n",
    "        color = color_purple\n",
    "    else:\n",
    "        continue\n",
    "    width = bins[bi+1]-bins[bi]\n",
    "    ax.add_patch(Rectangle(\n",
    "        xy=(bins[bi]+0.08*width, 0), width=0.92*width, height=counts[bi],\n",
    "        facecolor=color, edgecolor='none'))\n",
    "ax.axvline(knee1, c='r', ls='--')\n",
    "ax.axvline(knee2, c='r', ls='--')\n",
    "ax.set_xlabel('Missed Count: Medium Cost')\n",
    "plt.yscale('log', nonpositive='clip')\n",
    "seaborn.despine()\n",
    "#ax.set_ylim(0,1e5)\n",
    "#ax.set_xlim(0,3500)\n",
    "\n",
    "# high\n",
    "\n",
    "df5_high = df5[df5.CostCategory=='high'].reset_index(drop=True)\n",
    "counts, bins = np.histogram(df5_high.MissedCount, bins=20)\n",
    "bins = bins[:len(counts)]\n",
    "model = IsotonicRegression(increasing=False).fit(bins, counts)\n",
    "yp = model.predict(bins)\n",
    "kl = KneeLocator(bins, yp, curve=\"convex\", direction=\"decreasing\")\n",
    "knee1 = kl.knee\n",
    "ids = bins>knee1\n",
    "kl = KneeLocator(bins[ids], yp[ids], curve=\"convex\", direction=\"decreasing\")\n",
    "knee2 = knee1+kl.knee\n",
    "print('\\nhigh')\n",
    "print(f'cut point #1 = {knee1:.1f}, cut point #2 = {knee2:.1f}')\n",
    "misseddemand = df5_high.MissedDemand[df5_high.MissedCount>knee2].sum()\n",
    "print(f'missed demand = {misseddemand:.1f}')\n",
    "\n",
    "ax = fig.add_subplot(133)\n",
    "ax.hist(df5.MissedCount[df5.CostCategory=='high'], bins=20, color=color_green)\n",
    "counts, bins = np.histogram(df5.MissedCount[df5.CostCategory=='high'], bins=20)\n",
    "for bi in range(len(bins)-1):\n",
    "    if bins[bi+1]<=knee1:\n",
    "        color = color_yellow\n",
    "    elif bins[bi]>=knee2-10:\n",
    "        color = color_purple\n",
    "    else:\n",
    "        continue\n",
    "    width = bins[bi+1]-bins[bi]\n",
    "    ax.add_patch(Rectangle(\n",
    "        xy=(bins[bi]+0.08*width, 0), width=0.92*width, height=counts[bi],\n",
    "        facecolor=color, edgecolor='none'))\n",
    "ax.axvline(knee1, c='r', ls='--')\n",
    "ax.axvline(knee2, c='r', ls='--')\n",
    "ax.set_xlabel('Missed Count: High Cost')\n",
    "plt.yscale('log', nonpositive='clip')\n",
    "seaborn.despine()\n",
    "#ax.set_ylim(0,1e5)\n",
    "#ax.set_xlim(0,3500)\n",
    "\n",
    "df6 = df5_high.copy()\n",
    "ids = df5_high.MissedCount>knee2\n",
    "df6.loc[ids, 'MissedCount'] = knee2\n",
    "df6.loc[ids, 'MissedDemand'] = knee2*df5_high.WholesaleCost[ids]\n",
    "misseddemand2 = df6.MissedDemand[ids].sum()\n",
    "diff_perc_misseddemand = (misseddemand-misseddemand2)/misseddemand*100\n",
    "print(f'updated missed demand = {misseddemand2:.1f} (decreased by {diff_perc_misseddemand:.0f}%)')\n",
    "df5.loc[df5.CostCategory=='high'] = df6.values\n",
    "\n",
    "plt.tight_layout()\n",
    "plt.savefig(os.path.join(figure_path, 'missed_count_hist_by_cost_catgory.png'))"
   ]
  },
  {
   "cell_type": "markdown",
   "metadata": {},
   "source": [
    "## validation"
   ]
  },
  {
   "cell_type": "code",
   "execution_count": null,
   "metadata": {},
   "outputs": [],
   "source": [
    "print(df5.MissedCount.sum())\n",
    "print(df3.MissedCount.sum())\n",
    "print(df5.MissedCount.sum() / df3.MissedCount.sum())"
   ]
  },
  {
   "cell_type": "code",
   "execution_count": null,
   "metadata": {},
   "outputs": [],
   "source": [
    "print(df5.MissedDemand.sum())\n",
    "print(df3.MissedDemand.sum())\n",
    "print(df5.MissedDemand.sum()/ df3.MissedDemand.sum())"
   ]
  },
  {
   "cell_type": "code",
   "execution_count": null,
   "metadata": {},
   "outputs": [],
   "source": [
    "replenishmentdf5.to_csv(os.path.join(data_path, 'optimized pool.csv'), index=False)"
   ]
  }
 ],
 "metadata": {
  "kernelspec": {
   "display_name": "Python 3",
   "language": "python",
   "name": "python3"
  },
  "language_info": {
   "codemirror_mode": {
    "name": "ipython",
    "version": 3
   },
   "file_extension": ".py",
   "mimetype": "text/x-python",
   "name": "python",
   "nbconvert_exporter": "python",
   "pygments_lexer": "ipython3",
   "version": "3.8.5"
  }
 },
 "nbformat": 4,
 "nbformat_minor": 5
}
